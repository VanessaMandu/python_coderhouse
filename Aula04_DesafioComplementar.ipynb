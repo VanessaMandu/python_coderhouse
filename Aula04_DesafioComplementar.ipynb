{
 "cells": [
  {
   "cell_type": "code",
   "execution_count": 42,
   "metadata": {},
   "outputs": [
    {
     "data": {
      "text/plain": [
       "True"
      ]
     },
     "execution_count": 42,
     "metadata": {},
     "output_type": "execute_result"
    }
   ],
   "source": [
    "'''Crie uma função lambda chamada eh_multiplo_dez() que retorna True se um determinado número é múltiplo de 10 e \n",
    "False caso contrário '''\n",
    "\n",
    "# minha resolucao\n",
    "eh_multiplo_dez = lambda x: (x % 10) == 0\n",
    "eh_multiplo_dez(20)"
   ]
  },
  {
   "cell_type": "code",
   "execution_count": 43,
   "metadata": {},
   "outputs": [
    {
     "data": {
      "text/plain": [
       "(True, True)"
      ]
     },
     "execution_count": 43,
     "metadata": {},
     "output_type": "execute_result"
    }
   ],
   "source": [
    "'''Crie uma função lambda chamada eh_multiplo_dez() que retorna True se um determinado número é múltiplo de 10 e \n",
    "False caso contrário '''\n",
    "\n",
    "# resolucao professor\n",
    "def eh_multiplo_dez(numero):\n",
    "    if numero % 10 == 0:\n",
    "        return True\n",
    "    else:\n",
    "        return False\n",
    "    \n",
    "\n",
    "eh_multiplo_dez(10), eh_multiplo_dez(20)"
   ]
  },
  {
   "cell_type": "code",
   "execution_count": null,
   "metadata": {},
   "outputs": [],
   "source": [
    "'''Converta o programa de cálculo de fatorial da aula anterior para uma função. A função recebe como argumento o n \n",
    "e retorna o fatorial de n '''\n",
    "\n",
    "# resolucao professor (aula anterior)\n",
    "n = int(input(\"Digite um número inteiro: \"))\n",
    "fatorial = 1\n",
    "\n",
    "for i in range(1, n+1):\n",
    "    fatorial *= i\n",
    "\n",
    "print(\"O fatorial de\", n, \"é\", fatorial)"
   ]
  },
  {
   "cell_type": "code",
   "execution_count": 44,
   "metadata": {},
   "outputs": [
    {
     "data": {
      "text/plain": [
       "(120, 120)"
      ]
     },
     "execution_count": 44,
     "metadata": {},
     "output_type": "execute_result"
    }
   ],
   "source": [
    "'''Converta o programa de cálculo de fatorial da aula anterior para uma função. A função recebe como argumento o n \n",
    "e retorna o fatorial de n '''\n",
    "\n",
    "# resolucao professor \n",
    "def fatorial(n):\n",
    "    resp = 1\n",
    "    for i in range(1, n+1):\n",
    "        resp = i * resp\n",
    "    return resp\n",
    "\n",
    "fatorial(5), 5*4*3*2*1"
   ]
  },
  {
   "cell_type": "code",
   "execution_count": null,
   "metadata": {},
   "outputs": [],
   "source": []
  },
  {
   "cell_type": "code",
   "execution_count": 36,
   "metadata": {},
   "outputs": [
    {
     "name": "stdout",
     "output_type": "stream",
     "text": [
      "Vanessa\n",
      "['joao carlos', 'maria eduarda', 'ana rute', 'ana clara']\n",
      "['joao', 'maria', 'ana', 'ana']\n"
     ]
    }
   ],
   "source": [
    "'''Crie uma função primeiro_nome que recebe uma string nome completo e retorna somente o primeiro nome. \n",
    "Em seguida, use a função map para aplicar a função a uma lista de strings: nomes = ['João Carlos', 'Maria Eduarda', \n",
    "'Ana Rute', 'Ana Clara']'''\n",
    "\n",
    "# cria a funcao que retorna o primeiro nome\n",
    "def primeiro_nome(nome_completo):\n",
    "    primeiro_nome = nome_completo.split(' ')[0] # separa por espaços e retorna o primeiro item do index\n",
    "    return primeiro_nome\n",
    "\n",
    "print(primeiro_nome('Vanessa Mandu')) # exemplo\n",
    "\n",
    "lista_nomes = ['joao carlos','maria eduarda','ana rute','ana clara'] # define uma lista com os nomes\n",
    "\n",
    "print(lista_nomes) # imprime os nomes que foram definidos na lista\n",
    "\n",
    "primeiro_nome_lista = map(primeiro_nome, lista_nomes) # usa a funcao map para aplicar a funcao criada na lista definida\n",
    "print(list(primeiro_nome_lista)) # retorna o resultado da funcao map\n",
    "\n",
    "\n"
   ]
  },
  {
   "cell_type": "code",
   "execution_count": 2,
   "metadata": {},
   "outputs": [
    {
     "name": "stdout",
     "output_type": "stream",
     "text": [
      "Leandro\n",
      "['João', 'Maria', 'Ana', 'Ana']\n"
     ]
    }
   ],
   "source": [
    "'''Crie uma função primeiro_nome que recebe uma string nome completo e retorna somente o primeiro nome. \n",
    "Em seguida, use a função map para aplicar a função a uma lista de strings: nomes = ['João Carlos', 'Maria Eduarda', \n",
    "'Ana Rute', 'Ana Clara']'''\n",
    "\n",
    "\n",
    "# resolucao professor\n",
    "def primeiro_nome(nome_completo):\n",
    "    primeiro_nome = nome_completo.split(' ')[0]\n",
    "    return primeiro_nome\n",
    "\n",
    "print(primeiro_nome('Leandro Zanon'))\n",
    "\n",
    "print(\n",
    "    list(\n",
    "        map(primeiro_nome, \n",
    "            ['João Carlos', \n",
    "             'Maria Eduarda', \n",
    "             'Ana Rute', \n",
    "             'Ana Clara']\n",
    "            )\n",
    "        )\n",
    "    )"
   ]
  },
  {
   "cell_type": "code",
   "execution_count": 24,
   "metadata": {},
   "outputs": [
    {
     "data": {
      "text/plain": [
       "'Monday'"
      ]
     },
     "execution_count": 24,
     "metadata": {},
     "output_type": "execute_result"
    }
   ],
   "source": [
    "'''Escreva uma função que receba uma data no formato dd/mm/aaaa e retorne o dia da semana correspondente (Monday, \n",
    "Tuesday, etc.).'''\n",
    "\n",
    "# minha resolucao\n",
    "from datetime import datetime\n",
    "\n",
    "def obter_dia_semana(dia_semana):\n",
    "    data = datetime.strptime(dia_semana,'%d/%m/%Y')\n",
    "    return data.strftime('%A')\n",
    "\n",
    "obter_dia_semana('30/10/2023')\n",
    "\n"
   ]
  },
  {
   "cell_type": "code",
   "execution_count": null,
   "metadata": {},
   "outputs": [],
   "source": [
    "'''Escreva uma função que receba uma data no formato dd/mm/aaaa e retorne o dia da semana correspondente (Monday, \n",
    "Tuesday, etc.).'''\n",
    "\n",
    "# resolucao do professor\n",
    "from datetime import datetime\n",
    "\n",
    "def get_week_day_name(my_date):\n",
    "    my_date_converted = datetime.strptime(my_date, '%d/%m/%Y')\n",
    "    return my_date_converted.strftime('%A')\n",
    "\n",
    "get_week_day_name('23/08/2022')"
   ]
  }
 ],
 "metadata": {
  "kernelspec": {
   "display_name": "base",
   "language": "python",
   "name": "python3"
  },
  "language_info": {
   "codemirror_mode": {
    "name": "ipython",
    "version": 3
   },
   "file_extension": ".py",
   "mimetype": "text/x-python",
   "name": "python",
   "nbconvert_exporter": "python",
   "pygments_lexer": "ipython3",
   "version": "3.9.13"
  },
  "orig_nbformat": 4
 },
 "nbformat": 4,
 "nbformat_minor": 2
}
