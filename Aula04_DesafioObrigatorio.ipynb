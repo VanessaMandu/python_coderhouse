{
 "cells": [
  {
   "cell_type": "code",
   "execution_count": 1,
   "metadata": {},
   "outputs": [
    {
     "name": "stdout",
     "output_type": "stream",
     "text": [
      "Collecting plyer\n",
      "  Downloading plyer-2.1.0-py2.py3-none-any.whl (142 kB)\n",
      "     -------------------------------------- 142.3/142.3 kB 8.3 MB/s eta 0:00:00\n",
      "Installing collected packages: plyer\n",
      "Successfully installed plyer-2.1.0\n"
     ]
    }
   ],
   "source": [
    "!pip install plyer "
   ]
  },
  {
   "cell_type": "code",
   "execution_count": 94,
   "metadata": {},
   "outputs": [],
   "source": [
    "from plyer import notification \n",
    "from datetime import date"
   ]
  },
  {
   "cell_type": "code",
   "execution_count": 95,
   "metadata": {},
   "outputs": [],
   "source": [
    "def alerta(nivel, base, etapa):\n",
    "        \n",
    "    if nivel == 1:\n",
    "        titulo = 'Alerta Baixo'\n",
    "    elif nivel == 2:\n",
    "        titulo = 'Alerta Médio'\n",
    "    elif nivel == 3:\n",
    "        titulo = 'Alerta Alto'\n",
    "    \n",
    "    hoje = date.today().strftime('%d/%m/%Y')\n",
    "    \n",
    "    notification.notify(\n",
    "        title=titulo,\n",
    "        message=f'Falha no carregamento da base {base} na etapa {etapa} - {hoje}',\n",
    "        app_name='Teste',\n",
    "        timeout=10 )"
   ]
  },
  {
   "cell_type": "code",
   "execution_count": 96,
   "metadata": {},
   "outputs": [],
   "source": [
    "alerta(2,'CLIENTES','CARGA')"
   ]
  },
  {
   "cell_type": "code",
   "execution_count": null,
   "metadata": {},
   "outputs": [],
   "source": [
    "'''\n",
    "Descrição do exercicio: \n",
    "\n",
    "A função precisa ter essa definição:\n",
    "\n",
    "def alerta(nivel, base, etapa):\n",
    "\n",
    "Sendo:\n",
    "Ao chamar a função deverá gerar uma janela de alerta;\n",
    "Exibir a mensagem “Falha no carregamento da base {base} na etapa {etapa}”;\n",
    "Exibir a data atual;\n",
    "O título “Alerta Baixo” quando nivel = 1, “Alerta Médio” quando nivel = 2 e \"Alerta Alto” quando nivel = 3.\n"
   ]
  }
 ],
 "metadata": {
  "kernelspec": {
   "display_name": "base",
   "language": "python",
   "name": "python3"
  },
  "language_info": {
   "codemirror_mode": {
    "name": "ipython",
    "version": 3
   },
   "file_extension": ".py",
   "mimetype": "text/x-python",
   "name": "python",
   "nbconvert_exporter": "python",
   "pygments_lexer": "ipython3",
   "version": "3.9.13"
  },
  "orig_nbformat": 4
 },
 "nbformat": 4,
 "nbformat_minor": 2
}
