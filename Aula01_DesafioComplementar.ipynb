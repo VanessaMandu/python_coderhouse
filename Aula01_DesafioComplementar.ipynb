{
 "cells": [
  {
   "cell_type": "code",
   "execution_count": 16,
   "metadata": {},
   "outputs": [
    {
     "name": "stdout",
     "output_type": "stream",
     "text": [
      "Seu IMC eh:  30.0\n"
     ]
    }
   ],
   "source": [
    "'''\n",
    "Descrição\n",
    "Escreva um programa em Python que calcule o IMC (Índice de Massa Corporal) de uma pessoa. O programa deve solicitar ao usuário o peso em kg e a altura em metros, e em seguida, calcular e imprimir o valor do IMC.\n",
    "'''\n",
    "\n",
    "peso = float(input('Informe seu peso (em Kg):'))\n",
    "altura = float(input('Informe sua altura (em metros):'))\n",
    "imc = peso / (altura * altura) \n",
    "print(\"Seu IMC eh: \", imc)"
   ]
  },
  {
   "cell_type": "code",
   "execution_count": 49,
   "metadata": {},
   "outputs": [
    {
     "name": "stdout",
     "output_type": "stream",
     "text": [
      "[None, None, None, None, None]\n"
     ]
    },
    {
     "data": {
      "text/plain": [
       "[1, 2, 3, 4, 5]"
      ]
     },
     "execution_count": 49,
     "metadata": {},
     "output_type": "execute_result"
    }
   ],
   "source": [
    "'''\n",
    "Descrição\n",
    "Faça um programa que crie uma lista vazia e permita que o usuário insira 5 números inteiros na lista.\n",
    "'''\n",
    "\n",
    "lista = [None] * 5\n",
    "print(lista)\n",
    "lista[0] = int(1)\n",
    "lista[1] = int(2)\n",
    "lista[2] = int(3)\n",
    "lista[3] = int(4)\n",
    "lista[4] = int(5)\n",
    "lista"
   ]
  }
 ],
 "metadata": {
  "kernelspec": {
   "display_name": "base",
   "language": "python",
   "name": "python3"
  },
  "language_info": {
   "codemirror_mode": {
    "name": "ipython",
    "version": 3
   },
   "file_extension": ".py",
   "mimetype": "text/x-python",
   "name": "python",
   "nbconvert_exporter": "python",
   "pygments_lexer": "ipython3",
   "version": "3.9.13"
  },
  "orig_nbformat": 4
 },
 "nbformat": 4,
 "nbformat_minor": 2
}
