{
 "cells": [
  {
   "cell_type": "code",
   "execution_count": 10,
   "metadata": {},
   "outputs": [],
   "source": [
    "'''Crie uma classe Retangulo que tenha os atributos base e altura e os métodos area() e perimetro(). \n",
    "Crie um objeto e teste os métodos. '''\n",
    "\n",
    "class retangulo:\n",
    "    def __init__(self, base, altura):\n",
    "        self.base = base\n",
    "        self.altura = altura\n",
    "    \n",
    "    def area(self):\n",
    "        return self.base*self.altura\n",
    "    \n",
    "    def perimetro(self):\n",
    "        return self.base + self.altura + self.base + self.altura\n"
   ]
  },
  {
   "cell_type": "code",
   "execution_count": 11,
   "metadata": {},
   "outputs": [],
   "source": [
    "meu_retangulo = retangulo(4,5)"
   ]
  },
  {
   "cell_type": "code",
   "execution_count": 12,
   "metadata": {},
   "outputs": [
    {
     "data": {
      "text/plain": [
       "20"
      ]
     },
     "execution_count": 12,
     "metadata": {},
     "output_type": "execute_result"
    }
   ],
   "source": [
    "meu_retangulo.area()"
   ]
  },
  {
   "cell_type": "code",
   "execution_count": 16,
   "metadata": {},
   "outputs": [
    {
     "name": "stdout",
     "output_type": "stream",
     "text": [
      "<class 'geometria.retangulo'>\n"
     ]
    }
   ],
   "source": [
    "'''Crie um arquivo chamado geometria.py e salve a classe Retangulo dentro desse arquivo. \n",
    "Importe a classe de algum outro arquivo e realize testes. '''\n",
    "\n",
    "from geometria import retangulo\n",
    "retangulo(4,5)  \n",
    "print(retangulo)"
   ]
  },
  {
   "cell_type": "code",
   "execution_count": 17,
   "metadata": {},
   "outputs": [],
   "source": [
    "'''Crie uma classe Conta que tenha os atributos saldo e titular e os métodos depositar() e sacar(). \n",
    "Em seguida, instancie essa classe com um saldo inicial e realize algumas operações de depósito e saque para verificar\n",
    " se o saldo está sendo atualizado corretamente.\n",
    "'''\n",
    "\n",
    "class conta:\n",
    "    def __init__ (self, saldo, titular):\n",
    "        self.saldo = saldo\n",
    "        self.titular = titular\n",
    "\n",
    "    def depositar(self, valor):\n",
    "        self.saldo = self.saldo + valor \n",
    "        # aqui um atributo eh atualizado dentro de cada metodo\n",
    "\n",
    "    def sacar(self, valor):\n",
    "        self.saldo = self.saldo - valor"
   ]
  },
  {
   "cell_type": "code",
   "execution_count": 18,
   "metadata": {},
   "outputs": [],
   "source": [
    "minha_conta = conta(200,'vanessa')"
   ]
  },
  {
   "cell_type": "code",
   "execution_count": 19,
   "metadata": {},
   "outputs": [],
   "source": [
    "minha_conta.sacar(20)"
   ]
  },
  {
   "cell_type": "code",
   "execution_count": 20,
   "metadata": {},
   "outputs": [
    {
     "data": {
      "text/plain": [
       "180"
      ]
     },
     "execution_count": 20,
     "metadata": {},
     "output_type": "execute_result"
    }
   ],
   "source": [
    "minha_conta.saldo"
   ]
  },
  {
   "cell_type": "code",
   "execution_count": 21,
   "metadata": {},
   "outputs": [],
   "source": [
    "minha_conta.depositar(200)"
   ]
  },
  {
   "cell_type": "code",
   "execution_count": 22,
   "metadata": {},
   "outputs": [
    {
     "data": {
      "text/plain": [
       "380"
      ]
     },
     "execution_count": 22,
     "metadata": {},
     "output_type": "execute_result"
    }
   ],
   "source": [
    "minha_conta.saldo"
   ]
  }
 ],
 "metadata": {
  "kernelspec": {
   "display_name": "base",
   "language": "python",
   "name": "python3"
  },
  "language_info": {
   "codemirror_mode": {
    "name": "ipython",
    "version": 3
   },
   "file_extension": ".py",
   "mimetype": "text/x-python",
   "name": "python",
   "nbconvert_exporter": "python",
   "pygments_lexer": "ipython3",
   "version": "3.9.13"
  },
  "orig_nbformat": 4
 },
 "nbformat": 4,
 "nbformat_minor": 2
}
