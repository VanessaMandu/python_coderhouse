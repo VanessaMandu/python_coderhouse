{
 "cells": [
  {
   "cell_type": "code",
   "execution_count": 1,
   "metadata": {},
   "outputs": [
    {
     "name": "stdout",
     "output_type": "stream",
     "text": [
      "[99 62  6  1  7 14 27 27 94 25]\n"
     ]
    },
    {
     "data": {
      "text/plain": [
       "numpy.ndarray"
      ]
     },
     "execution_count": 1,
     "metadata": {},
     "output_type": "execute_result"
    }
   ],
   "source": [
    "'''Crie um array NumPy com 10 elementos inteiros aleatórios no intervalo [0, 100] e exiba os valores e o tipo de\n",
    " dado do array.\n",
    "'''\n",
    "\n",
    "import numpy as np\n",
    "\n",
    "intervalo = np.random.randint(0,101,size = 10)\n",
    "print(intervalo)\n",
    "type(intervalo)"
   ]
  },
  {
   "cell_type": "code",
   "execution_count": 2,
   "metadata": {},
   "outputs": [
    {
     "name": "stdout",
     "output_type": "stream",
     "text": [
      "[[0.56827104 0.48196314 0.89821161 0.53602864 0.31670813]\n",
      " [0.27189108 0.69711421 0.6262826  0.40345822 0.17680438]\n",
      " [0.08661068 0.21566268 0.5416969  0.05791405 0.25816176]\n",
      " [0.83122789 0.50532642 0.59089815 0.20919769 0.61497676]\n",
      " [0.47905953 0.7421862  0.53599454 0.76409404 0.81274078]]\n",
      "mínimo: 0.05791405058278465\n",
      "máximo: 0.8982116134233001\n",
      "média: 0.2338473595781709\n"
     ]
    }
   ],
   "source": [
    "'''Crie uma matriz de 5x5 com valores aleatórios de [0,1) e encontre o valor mínimo, máximo e a média da matriz.\n",
    "'''\n",
    "matriz = np.random.rand(5,5)\n",
    "print(matriz)\n",
    "print('mínimo:', matriz.min())\n",
    "print('máximo:', matriz.max())\n",
    "print('média:', matriz.std())"
   ]
  },
  {
   "cell_type": "code",
   "execution_count": 6,
   "metadata": {},
   "outputs": [
    {
     "name": "stdout",
     "output_type": "stream",
     "text": [
      "[[0.38767352 0.45204036 0.46859885 0.73761237 0.98833197 0.41736572\n",
      "  0.8009466  0.97776269 0.25370878 0.96658561]]\n",
      "[[3.8767352  4.52040364 4.6859885  7.37612367 9.88331969 4.17365718\n",
      "  8.00946598 9.77762691 2.53708777 9.66585606]]\n"
     ]
    }
   ],
   "source": [
    "'''Crie um array com 10 elementos aleatórios no intervalo [0, 1]. Em seguida, crie um novo array com os elementos \n",
    "do primeiro array multiplicados por 10 e convertidos para inteiro.\n",
    "'''\n",
    "\n",
    "variavel = np.random.rand(1,10)\n",
    "variavel10 = variavel *10\n",
    "print(variavel)\n",
    "print(variavel10)\n"
   ]
  },
  {
   "cell_type": "code",
   "execution_count": 5,
   "metadata": {},
   "outputs": [
    {
     "name": "stdout",
     "output_type": "stream",
     "text": [
      "[[6 7 1]\n",
      " [0 3 6]\n",
      " [7 2 6]]\n",
      "[[ 6  7  1]\n",
      " [-1 -1 -1]\n",
      " [ 7  2  6]]\n"
     ]
    }
   ],
   "source": [
    "'''Crie um array de duas dimensões com shape (3, 3) e valores aleatórios inteiros no intervalo [0, 9]. \n",
    "Substitua todos os elementos da segunda linha por -1.\n",
    "'''\n",
    "\n",
    "import numpy as np\n",
    "\n",
    "array = np.random.randint(0, 10, size=(3, 3))\n",
    "print(array)\n",
    "\n",
    "array[1] = -1\n",
    "print(array)"
   ]
  },
  {
   "cell_type": "code",
   "execution_count": 2,
   "metadata": {},
   "outputs": [
    {
     "data": {
      "text/html": [
       "<div>\n",
       "<style scoped>\n",
       "    .dataframe tbody tr th:only-of-type {\n",
       "        vertical-align: middle;\n",
       "    }\n",
       "\n",
       "    .dataframe tbody tr th {\n",
       "        vertical-align: top;\n",
       "    }\n",
       "\n",
       "    .dataframe thead th {\n",
       "        text-align: right;\n",
       "    }\n",
       "</style>\n",
       "<table border=\"1\" class=\"dataframe\">\n",
       "  <thead>\n",
       "    <tr style=\"text-align: right;\">\n",
       "      <th></th>\n",
       "      <th>Fruta</th>\n",
       "      <th>Preço</th>\n",
       "      <th>Quantidade</th>\n",
       "    </tr>\n",
       "  </thead>\n",
       "  <tbody>\n",
       "    <tr>\n",
       "      <th>0</th>\n",
       "      <td>banana</td>\n",
       "      <td>7.90</td>\n",
       "      <td>12</td>\n",
       "    </tr>\n",
       "    <tr>\n",
       "      <th>1</th>\n",
       "      <td>maça</td>\n",
       "      <td>10.20</td>\n",
       "      <td>3</td>\n",
       "    </tr>\n",
       "    <tr>\n",
       "      <th>2</th>\n",
       "      <td>pera</td>\n",
       "      <td>11.80</td>\n",
       "      <td>4</td>\n",
       "    </tr>\n",
       "  </tbody>\n",
       "</table>\n",
       "</div>"
      ],
      "text/plain": [
       "    Fruta  Preço  Quantidade\n",
       "0  banana   7.90          12\n",
       "1    maça  10.20           3\n",
       "2    pera  11.80           4"
      ]
     },
     "execution_count": 2,
     "metadata": {},
     "output_type": "execute_result"
    }
   ],
   "source": [
    "'''Crie um DataFrame com as seguintes informações:\n",
    "Coluna \"fruta\": \"Banana\", \"Maça\", \"Pera\"\n",
    "Coluna \"preco\": 7.90, 10.20, 11.80\n",
    "Coluna \"quantidade\": 12, 3, 4\n",
    "'''\n",
    "\n",
    "import pandas as pd\n",
    "pd.DataFrame({'Fruta':['banana','maça','pera'],'Preço':['7.90','10.20','11.80'],'Quantidade':[12,3,4]})"
   ]
  }
 ],
 "metadata": {
  "kernelspec": {
   "display_name": "base",
   "language": "python",
   "name": "python3"
  },
  "language_info": {
   "codemirror_mode": {
    "name": "ipython",
    "version": 3
   },
   "file_extension": ".py",
   "mimetype": "text/x-python",
   "name": "python",
   "nbconvert_exporter": "python",
   "pygments_lexer": "ipython3",
   "version": "3.9.13"
  },
  "orig_nbformat": 4
 },
 "nbformat": 4,
 "nbformat_minor": 2
}
