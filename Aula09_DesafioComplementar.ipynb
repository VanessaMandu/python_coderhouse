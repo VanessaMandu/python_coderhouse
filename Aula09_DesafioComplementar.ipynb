{
 "cells": [
  {
   "cell_type": "code",
   "execution_count": 1,
   "metadata": {},
   "outputs": [],
   "source": [
    "import sqlite3\n",
    "import pandas as pd"
   ]
  },
  {
   "cell_type": "code",
   "execution_count": 2,
   "metadata": {},
   "outputs": [],
   "source": [
    "# criação do DataFrame\n",
    "fastfood_df = pd.read_excel(\"fastfood.xlsx\",sheet_name='fastfood')"
   ]
  },
  {
   "cell_type": "code",
   "execution_count": 25,
   "metadata": {},
   "outputs": [],
   "source": [
    "'''1. Criar as seguintes funções:'''\n",
    "\n",
    "# def salva_bd(df, nome_tabela): salva dataframe df na tabela nome_tabela.\n",
    "\n",
    "def salva_bd(df, nome_tabela):\n",
    "\n",
    "    # Conectar ao banco de dados\n",
    "    conn = sqlite3.connect('coderhouse.db')\n",
    "\n",
    "    # Escrever o DataFrame em uma tabela que pode ser consultada em linguagem SQL\n",
    "    #o DataFrame 'fastfood_df' será transformado na tabela 'fastfood' no banco de dados 'coderhouse.db'\n",
    "    df.to_sql(nome_tabela, conn, if_exists='replace', index=False)\n",
    "\n",
    "    # Fechar a conexão com o banco de dados\n",
    "    conn.close()\n",
    "\n",
    "    return True"
   ]
  },
  {
   "cell_type": "code",
   "execution_count": 37,
   "metadata": {},
   "outputs": [],
   "source": [
    "# def carrega_bd(nome_tabela): carrega tabela nome_tabela num dataframe. \n",
    "\n",
    "def carrega_bd(nome_tabela):\n",
    "\n",
    "    # leitura da tabela \n",
    "\n",
    "    conn = sqlite3.connect('coderhouse.db')\n",
    "\n",
    "    # Executar uma consulta SELECT na tabela 'fastfood' e converter em um DataFrame\n",
    "    '''Transforma o resultado da consulta SQL em um DataFrame'''\n",
    "    #query = '''SELECT * FROM nome_tabela'''\n",
    "    query = f'SELECT * FROM  {nome_tabela} '\n",
    "    df2 = pd.read_sql(query, conn)\n",
    "    print(df2)\n",
    "\n",
    "    conn.close()\n",
    "\n",
    "    return True"
   ]
  },
  {
   "cell_type": "code",
   "execution_count": 38,
   "metadata": {},
   "outputs": [],
   "source": [
    "# def tabelas_bd(): retorna um dataframe com as tabelas do banco de dados.\n",
    "\n",
    "def tabelas_bd():\n",
    "\n",
    "    conn = sqlite3.connect('coderhouse.db')\n",
    "\n",
    "    # Executar uma consulta que retorna as informações do esquema do banco de dados\n",
    "    query = \"SELECT name FROM sqlite_master WHERE type='table'\"\n",
    "    schema = pd.read_sql_query(query, conn)\n",
    "\n",
    "    # Imprimir o DataFrame com os nomes das tabelas\n",
    "    print(schema)\n",
    "\n",
    "    conn.close()\n",
    "\n",
    "    return True"
   ]
  },
  {
   "cell_type": "code",
   "execution_count": 39,
   "metadata": {},
   "outputs": [
    {
     "name": "stdout",
     "output_type": "stream",
     "text": [
      "       name\n",
      "0  fastfood\n",
      "1  produtos\n"
     ]
    },
    {
     "data": {
      "text/plain": [
       "True"
      ]
     },
     "execution_count": 39,
     "metadata": {},
     "output_type": "execute_result"
    }
   ],
   "source": [
    "tabelas_bd()"
   ]
  },
  {
   "cell_type": "code",
   "execution_count": 32,
   "metadata": {},
   "outputs": [
    {
     "data": {
      "text/html": [
       "<div>\n",
       "<style scoped>\n",
       "    .dataframe tbody tr th:only-of-type {\n",
       "        vertical-align: middle;\n",
       "    }\n",
       "\n",
       "    .dataframe tbody tr th {\n",
       "        vertical-align: top;\n",
       "    }\n",
       "\n",
       "    .dataframe thead th {\n",
       "        text-align: right;\n",
       "    }\n",
       "</style>\n",
       "<table border=\"1\" class=\"dataframe\">\n",
       "  <thead>\n",
       "    <tr style=\"text-align: right;\">\n",
       "      <th></th>\n",
       "      <th>nome</th>\n",
       "      <th>valor</th>\n",
       "    </tr>\n",
       "  </thead>\n",
       "  <tbody>\n",
       "    <tr>\n",
       "      <th>0</th>\n",
       "      <td>ovos</td>\n",
       "      <td>10</td>\n",
       "    </tr>\n",
       "    <tr>\n",
       "      <th>1</th>\n",
       "      <td>manteiga</td>\n",
       "      <td>20</td>\n",
       "    </tr>\n",
       "    <tr>\n",
       "      <th>2</th>\n",
       "      <td>peixe</td>\n",
       "      <td>30</td>\n",
       "    </tr>\n",
       "  </tbody>\n",
       "</table>\n",
       "</div>"
      ],
      "text/plain": [
       "       nome  valor\n",
       "0      ovos     10\n",
       "1  manteiga     20\n",
       "2     peixe     30"
      ]
     },
     "execution_count": 32,
     "metadata": {},
     "output_type": "execute_result"
    }
   ],
   "source": [
    "# salvar uma tabela\n",
    "df_produtos = pd.DataFrame({'nome': ['ovos', 'manteiga', 'peixe'],\n",
    "                   'valor': [10, 20, 30]})  \n",
    "df_produtos"
   ]
  },
  {
   "cell_type": "code",
   "execution_count": 33,
   "metadata": {},
   "outputs": [
    {
     "data": {
      "text/plain": [
       "True"
      ]
     },
     "execution_count": 33,
     "metadata": {},
     "output_type": "execute_result"
    }
   ],
   "source": [
    "salva_bd(df_produtos,'produtos')"
   ]
  },
  {
   "cell_type": "code",
   "execution_count": 40,
   "metadata": {},
   "outputs": [
    {
     "name": "stdout",
     "output_type": "stream",
     "text": [
      "       nome  valor\n",
      "0      ovos     10\n",
      "1  manteiga     20\n",
      "2     peixe     30\n"
     ]
    },
    {
     "data": {
      "text/plain": [
       "True"
      ]
     },
     "execution_count": 40,
     "metadata": {},
     "output_type": "execute_result"
    }
   ],
   "source": [
    "carrega_bd('produtos')"
   ]
  },
  {
   "cell_type": "code",
   "execution_count": 41,
   "metadata": {},
   "outputs": [
    {
     "name": "stdout",
     "output_type": "stream",
     "text": [
      "       name\n",
      "0  fastfood\n",
      "1  produtos\n"
     ]
    },
    {
     "data": {
      "text/plain": [
       "True"
      ]
     },
     "execution_count": 41,
     "metadata": {},
     "output_type": "execute_result"
    }
   ],
   "source": [
    "tabelas_bd()"
   ]
  }
 ],
 "metadata": {
  "kernelspec": {
   "display_name": "base",
   "language": "python",
   "name": "python3"
  },
  "language_info": {
   "codemirror_mode": {
    "name": "ipython",
    "version": 3
   },
   "file_extension": ".py",
   "mimetype": "text/x-python",
   "name": "python",
   "nbconvert_exporter": "python",
   "pygments_lexer": "ipython3",
   "version": "3.9.13"
  },
  "orig_nbformat": 4
 },
 "nbformat": 4,
 "nbformat_minor": 2
}
