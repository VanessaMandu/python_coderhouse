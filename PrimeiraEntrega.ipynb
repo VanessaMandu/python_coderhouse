{
 "cells": [
  {
   "cell_type": "code",
   "execution_count": 1,
   "metadata": {},
   "outputs": [],
   "source": [
    "import pandas as pd\n",
    "import requests\n",
    "\n",
    "from plyer import notification \n",
    "from datetime import date"
   ]
  },
  {
   "cell_type": "code",
   "execution_count": 2,
   "metadata": {},
   "outputs": [
    {
     "name": "stdout",
     "output_type": "stream",
     "text": [
      "{\"cep\":\"05713520\",\"state\":\"SP\",\"city\":\"São Paulo\",\"neighborhood\":\"Jardim Ampliação\",\"street\":\"Rua Marie Nader Calfat\",\"service\":\"correios\",\"location\":{\"type\":\"Point\",\"coordinates\":{}}}\n",
      "200\n"
     ]
    }
   ],
   "source": [
    "cep = '05713520'\n",
    "\n",
    "url = f\"https://brasilapi.com.br/api/cep/v2/{cep}\"\n",
    "\n",
    "response = requests.get(url, params=cep)\n",
    "status_code = response.status_code\n",
    "\n",
    "print(response.text)\n",
    "print(response.status_code)"
   ]
  },
  {
   "cell_type": "code",
   "execution_count": 9,
   "metadata": {},
   "outputs": [],
   "source": [
    "def alerta(cep):\n",
    "\n",
    "    url = f\"https://brasilapi.com.br/api/cep/v2/{cep}\"\n",
    "\n",
    "    response = requests.get(url, params=cep)\n",
    "    status_code = response.status_code\n",
    "        \n",
    "    if status_code == 200:\n",
    "        titulo = 'Sucesso'\n",
    "        mensagem = 'inserido com sucesso'\n",
    "    else:\n",
    "        titulo = 'Erro'\n",
    "        mensagem = 'não localizado'\n",
    "    \n",
    "    notification.notify(\n",
    "        title=titulo,\n",
    "        message=f'CEP {cep} {mensagem}',\n",
    "        app_name='Teste',\n",
    "        timeout=10 )"
   ]
  },
  {
   "cell_type": "code",
   "execution_count": 10,
   "metadata": {},
   "outputs": [],
   "source": [
    "alerta('89010025')"
   ]
  },
  {
   "cell_type": "code",
   "execution_count": null,
   "metadata": {},
   "outputs": [],
   "source": [
    "'''\n",
    "import pandas as pd\n",
    "\n",
    "import requests\n",
    "\n",
    "ceps_extraction \\= pd.DataFrame()\n",
    "\n",
    "for cep in [89010025]:\n",
    "\n",
    "cep_str \\= str(cep).zfill(8)\n",
    "\n",
    "url \\= f’https://brasilapi.com.br/api/cep/v2/{cep_str}’\n",
    "response \\= requests.get(url)\n",
    "\n",
    "if response.status_code \\== 200:\n",
    "\n",
    "print(response.text)\n",
    "\n",
    "df \\= pd.DataFrame(response.json())\n",
    "\n",
    "# tratar o response como um json/dict e ter um data frame com colunas\n",
    "\n",
    "ceps_extraction \\= ceps_extraction.append(df)\n",
    "'''"
   ]
  }
 ],
 "metadata": {
  "kernelspec": {
   "display_name": "base",
   "language": "python",
   "name": "python3"
  },
  "language_info": {
   "codemirror_mode": {
    "name": "ipython",
    "version": 3
   },
   "file_extension": ".py",
   "mimetype": "text/x-python",
   "name": "python",
   "nbconvert_exporter": "python",
   "pygments_lexer": "ipython3",
   "version": "3.9.13"
  },
  "orig_nbformat": 4
 },
 "nbformat": 4,
 "nbformat_minor": 2
}
