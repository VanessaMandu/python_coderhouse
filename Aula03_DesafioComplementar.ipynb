{
 "cells": [
  {
   "cell_type": "code",
   "execution_count": 9,
   "metadata": {},
   "outputs": [
    {
     "name": "stdout",
     "output_type": "stream",
     "text": [
      "impar\n",
      "par\n",
      "impar\n",
      "par\n",
      "impar\n"
     ]
    }
   ],
   "source": [
    "''' 01 Escreva um programa que receba um número inteiro e exiba se ele é par ou ímpar '''\n",
    "\n",
    "# minha resolucao\n",
    "for variavel in [1,2,3,4,5]:\n",
    "    if variavel % 2 == 0:\n",
    "        print('par')\n",
    "    else:\n",
    "        print('impar')\n"
   ]
  },
  {
   "cell_type": "code",
   "execution_count": 10,
   "metadata": {},
   "outputs": [
    {
     "name": "stdout",
     "output_type": "stream",
     "text": [
      "Ímpar\n"
     ]
    }
   ],
   "source": [
    "''' 01 Escreva um programa que receba um número inteiro e exiba se ele é par ou ímpar '''\n",
    "    \n",
    "# resolucao do professor\n",
    "num = int(input(\"Digite um número inteiro: \"))\n",
    "if num % 2 == 0:\n",
    "    print(\"Par\")\n",
    "else:\n",
    "    print(\"Ímpar\")"
   ]
  },
  {
   "cell_type": "code",
   "execution_count": 6,
   "metadata": {},
   "outputs": [
    {
     "name": "stdout",
     "output_type": "stream",
     "text": [
      "['esta', 'chovendo']\n",
      "[4, 8]\n"
     ]
    }
   ],
   "source": [
    "''' 2 Escreva um programa em Python que solicita ao usuário uma frase e, em seguida, exibe cada palavra e seu número \n",
    "de caracteres'''\n",
    "\n",
    "# minha resolucao \n",
    "frase = input(\"digite uma frase: \")\n",
    "\n",
    "lista_frase = [i for i in frase.split()] # insere em uma lista as palavras da frase\n",
    "tamanhos = map(len, lista_frase) # funcao map aplica a funcao em cada elemento da lista\n",
    "\n",
    "print(lista_frase)\n",
    "print(list(tamanhos))"
   ]
  },
  {
   "cell_type": "code",
   "execution_count": 11,
   "metadata": {},
   "outputs": [
    {
     "name": "stdout",
     "output_type": "stream",
     "text": [
      "esta 4\n",
      "chovendo 8\n"
     ]
    }
   ],
   "source": [
    "''' 2 Escreva um programa em Python que solicita ao usuário uma frase e, em seguida, exibe cada palavra e seu número \n",
    "de caracteres'''\n",
    "\n",
    "# resolucao professor \n",
    "frase = input(\"Digite uma frase: \")\n",
    "\n",
    "palavras = frase.split()  \n",
    "\n",
    "for palavra in palavras:\n",
    "    tamanho = len(palavra)\n",
    "    print(palavra, tamanho)"
   ]
  },
  {
   "cell_type": "code",
   "execution_count": 3,
   "metadata": {},
   "outputs": [
    {
     "name": "stdout",
     "output_type": "stream",
     "text": [
      "senha correta\n"
     ]
    }
   ],
   "source": [
    "''' Crie um programa em Python que solicita ao usuário uma senha numérica de 4 dígitos. \n",
    "O programa deve repetir essa solicitação até que o usuário informe a senha correta (1234).'''\n",
    "\n",
    "# minha resolucao e do professor estao iguais\n",
    "senha = int(input('Digite a senha: '))\n",
    "while senha != 1234:\n",
    "    senha = int(input('Senha incorreta. Digite a senha: '))\n",
    "print(\"senha correta\")"
   ]
  },
  {
   "cell_type": "code",
   "execution_count": null,
   "metadata": {},
   "outputs": [],
   "source": [
    "''' Escreva um programa que dado um valor n calcula o fatorial de n.'''\n",
    "\n",
    "# resolucao professor\n",
    "n = int(input(\"Digite um número inteiro: \"))\n",
    "fatorial = 1\n",
    "\n",
    "for i in range(1, n+1):\n",
    "    fatorial *= i\n",
    "\n",
    "print(\"O fatorial de\", n, \"é\", fatorial)"
   ]
  },
  {
   "cell_type": "code",
   "execution_count": 7,
   "metadata": {},
   "outputs": [
    {
     "name": "stdout",
     "output_type": "stream",
     "text": [
      "<class 'dict'>\n",
      "3445\n",
      "232\n",
      "4323\n",
      "342\n"
     ]
    }
   ],
   "source": [
    "'''Crie um dicionário com os dados da tabela ao lado, crie um loop\n",
    "para exibir os valores.  '''\n",
    "\n",
    "# minha resolucao\n",
    "dict = {'Janeiro':'3445','Fevereiro': '232','Junho':'4323','Julho':342}\n",
    "print(type(dict))\n",
    "\n",
    "for valor in dict.values():\n",
    "    print(valor)"
   ]
  },
  {
   "cell_type": "code",
   "execution_count": null,
   "metadata": {},
   "outputs": [],
   "source": [
    "'''Crie um dicionário com os dados da tabela ao lado, crie um loop\n",
    "para exibir os valores.  '''\n",
    "\n",
    "# resolucao professor\n",
    "\n",
    "dados = {\n",
    "    'Mês': ['Janeiro', 'Fevereiro', 'Junho', 'Julho'],\n",
    "    'Quantidade': [232, 321, 589, 547]\n",
    "}\n",
    "\n",
    "for valores in dados['Quantidade']:\n",
    "    print(valores) "
   ]
  }
 ],
 "metadata": {
  "kernelspec": {
   "display_name": "base",
   "language": "python",
   "name": "python3"
  },
  "language_info": {
   "codemirror_mode": {
    "name": "ipython",
    "version": 3
   },
   "file_extension": ".py",
   "mimetype": "text/x-python",
   "name": "python",
   "nbconvert_exporter": "python",
   "pygments_lexer": "ipython3",
   "version": "3.9.13"
  },
  "orig_nbformat": 4
 },
 "nbformat": 4,
 "nbformat_minor": 2
}
